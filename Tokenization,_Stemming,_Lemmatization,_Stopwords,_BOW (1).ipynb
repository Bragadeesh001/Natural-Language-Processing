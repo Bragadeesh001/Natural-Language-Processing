{
  "nbformat": 4,
  "nbformat_minor": 0,
  "metadata": {
    "colab": {
      "provenance": []
    },
    "kernelspec": {
      "name": "python3",
      "display_name": "Python 3"
    },
    "language_info": {
      "name": "python"
    }
  },
  "cells": [
    {
      "cell_type": "markdown",
      "source": [
        "# Tokenization, Stemming, Lemmatization, Stopwords, BOW."
      ],
      "metadata": {
        "id": "Jjs6-8FhQJ3C"
      }
    },
    {
      "cell_type": "code",
      "execution_count": 2,
      "metadata": {
        "id": "Gd6m_6XKHATN",
        "outputId": "32fb3702-f08f-45e8-a595-a73006893bc4",
        "colab": {
          "base_uri": "https://localhost:8080/"
        }
      },
      "outputs": [
        {
          "output_type": "stream",
          "name": "stdout",
          "text": [
            "Looking in indexes: https://pypi.org/simple, https://us-python.pkg.dev/colab-wheels/public/simple/\n",
            "Requirement already satisfied: nltk in /usr/local/lib/python3.7/dist-packages (3.7)\n",
            "Requirement already satisfied: tqdm in /usr/local/lib/python3.7/dist-packages (from nltk) (4.64.1)\n",
            "Requirement already satisfied: click in /usr/local/lib/python3.7/dist-packages (from nltk) (7.1.2)\n",
            "Requirement already satisfied: regex>=2021.8.3 in /usr/local/lib/python3.7/dist-packages (from nltk) (2022.6.2)\n",
            "Requirement already satisfied: joblib in /usr/local/lib/python3.7/dist-packages (from nltk) (1.2.0)\n"
          ]
        }
      ],
      "source": [
        "!pip install nltk"
      ]
    },
    {
      "cell_type": "code",
      "source": [
        "paragraph=\"\"\"\n",
        "Narendra Damodardas Modi (Gujarati: [ˈnəɾendɾə dɑmodəɾˈdɑs ˈmodiː] (listen); born 17 September 1950)[b] is an Indian politician serving as the 14th and current prime minister of India since 2014. Modi was the chief minister of Gujarat from 2001 to 2014 and is the Member of Parliament from Varanasi. He is a member of the Bharatiya Janata Party (BJP) and of the Rashtriya Swayamsevak Sangh (RSS), a right-wing Hindu nationalist paramilitary volunteer organisation. He is the longest serving prime minister from outside the Indian National Congress.\n",
        "\n",
        "Modi was born and raised in Vadnagar in northeastern Gujarat, where he completed his secondary education. He was introduced to the RSS at age eight. He has discussed having to work as a child in his father's tea stall in the Vadnagar railway station, which has not been reliably corroborated. At age 18, Modi was married to Jashodaben Chimanlal Modi, whom he abandoned soon after. He first publicly acknowledged her as his wife more than four decades later when required to do so by Indian law, but has made no contact with her since. Modi has asserted he had travelled in northern India for two years after leaving his parental home, visiting a number of religious centres, but few details of his travels have emerged. Upon his return to Gujarat in 1971, he became a full-time worker for the RSS. After the state of emergency was declared by prime minister Indira Gandhi in 1975, Modi went into hiding. The RSS assigned him to the BJP in 1985 and he held several positions within the party hierarchy until 2001, rising to the rank of general secretary.\n",
        "\"\"\""
      ],
      "metadata": {
        "id": "fVRYD4EQHpO5"
      },
      "execution_count": 3,
      "outputs": []
    },
    {
      "cell_type": "code",
      "source": [
        "paragraph"
      ],
      "metadata": {
        "colab": {
          "base_uri": "https://localhost:8080/",
          "height": 140
        },
        "id": "LwCYka5THub9",
        "outputId": "7df951c0-a92f-40c4-fcba-4817049e005c"
      },
      "execution_count": 4,
      "outputs": [
        {
          "output_type": "execute_result",
          "data": {
            "text/plain": [
              "\"\\nNarendra Damodardas Modi (Gujarati: [ˈnəɾendɾə dɑmodəɾˈdɑs ˈmodiː] (listen); born 17 September 1950)[b] is an Indian politician serving as the 14th and current prime minister of India since 2014. Modi was the chief minister of Gujarat from 2001 to 2014 and is the Member of Parliament from Varanasi. He is a member of the Bharatiya Janata Party (BJP) and of the Rashtriya Swayamsevak Sangh (RSS), a right-wing Hindu nationalist paramilitary volunteer organisation. He is the longest serving prime minister from outside the Indian National Congress.\\n\\nModi was born and raised in Vadnagar in northeastern Gujarat, where he completed his secondary education. He was introduced to the RSS at age eight. He has discussed having to work as a child in his father's tea stall in the Vadnagar railway station, which has not been reliably corroborated. At age 18, Modi was married to Jashodaben Chimanlal Modi, whom he abandoned soon after. He first publicly acknowledged her as his wife more than four decades later when required to do so by Indian law, but has made no contact with her since. Modi has asserted he had travelled in northern India for two years after leaving his parental home, visiting a number of religious centres, but few details of his travels have emerged. Upon his return to Gujarat in 1971, he became a full-time worker for the RSS. After the state of emergency was declared by prime minister Indira Gandhi in 1975, Modi went into hiding. The RSS assigned him to the BJP in 1985 and he held several positions within the party hierarchy until 2001, rising to the rank of general secretary.\\n\""
            ],
            "application/vnd.google.colaboratory.intrinsic+json": {
              "type": "string"
            }
          },
          "metadata": {},
          "execution_count": 4
        }
      ]
    },
    {
      "cell_type": "code",
      "source": [
        "import nltk\n",
        "from nltk.stem import PorterStemmer\n",
        "from nltk.corpus import stopwords"
      ],
      "metadata": {
        "id": "ROd6sDM9HvaB"
      },
      "execution_count": 5,
      "outputs": []
    },
    {
      "cell_type": "code",
      "source": [
        "### Tokenization--converts paragraph-scentences-words\n",
        "\n",
        "nltk.download('punkt')\n",
        "scentences=nltk.sent_tokenize(paragraph)"
      ],
      "metadata": {
        "colab": {
          "base_uri": "https://localhost:8080/"
        },
        "id": "o6t5MZovIDmp",
        "outputId": "5a155ed3-97bd-4415-9ec6-e430a9448497"
      },
      "execution_count": 6,
      "outputs": [
        {
          "output_type": "stream",
          "name": "stderr",
          "text": [
            "[nltk_data] Downloading package punkt to /root/nltk_data...\n",
            "[nltk_data]   Unzipping tokenizers/punkt.zip.\n"
          ]
        }
      ]
    },
    {
      "cell_type": "code",
      "source": [
        "scentences"
      ],
      "metadata": {
        "colab": {
          "base_uri": "https://localhost:8080/"
        },
        "id": "W9nDkOXDIY3i",
        "outputId": "77a2edda-fcc2-40c6-8df7-c43a5d7aebea"
      },
      "execution_count": 7,
      "outputs": [
        {
          "output_type": "execute_result",
          "data": {
            "text/plain": [
              "['\\nNarendra Damodardas Modi (Gujarati: [ˈnəɾendɾə dɑmodəɾˈdɑs ˈmodiː] (listen); born 17 September 1950)[b] is an Indian politician serving as the 14th and current prime minister of India since 2014.',\n",
              " 'Modi was the chief minister of Gujarat from 2001 to 2014 and is the Member of Parliament from Varanasi.',\n",
              " 'He is a member of the Bharatiya Janata Party (BJP) and of the Rashtriya Swayamsevak Sangh (RSS), a right-wing Hindu nationalist paramilitary volunteer organisation.',\n",
              " 'He is the longest serving prime minister from outside the Indian National Congress.',\n",
              " 'Modi was born and raised in Vadnagar in northeastern Gujarat, where he completed his secondary education.',\n",
              " 'He was introduced to the RSS at age eight.',\n",
              " \"He has discussed having to work as a child in his father's tea stall in the Vadnagar railway station, which has not been reliably corroborated.\",\n",
              " 'At age 18, Modi was married to Jashodaben Chimanlal Modi, whom he abandoned soon after.',\n",
              " 'He first publicly acknowledged her as his wife more than four decades later when required to do so by Indian law, but has made no contact with her since.',\n",
              " 'Modi has asserted he had travelled in northern India for two years after leaving his parental home, visiting a number of religious centres, but few details of his travels have emerged.',\n",
              " 'Upon his return to Gujarat in 1971, he became a full-time worker for the RSS.',\n",
              " 'After the state of emergency was declared by prime minister Indira Gandhi in 1975, Modi went into hiding.',\n",
              " 'The RSS assigned him to the BJP in 1985 and he held several positions within the party hierarchy until 2001, rising to the rank of general secretary.']"
            ]
          },
          "metadata": {},
          "execution_count": 7
        }
      ]
    },
    {
      "cell_type": "code",
      "source": [
        "### Stemming\n",
        "\n",
        "stemmer=PorterStemmer()"
      ],
      "metadata": {
        "id": "UBE_nnIwIbcs"
      },
      "execution_count": 8,
      "outputs": []
    },
    {
      "cell_type": "code",
      "source": [
        "stemmer.stem('history')"
      ],
      "metadata": {
        "colab": {
          "base_uri": "https://localhost:8080/",
          "height": 35
        },
        "id": "Ix_WErMOI2xs",
        "outputId": "8c28dff3-e4cb-47b1-c258-0aad5556c8bc"
      },
      "execution_count": 9,
      "outputs": [
        {
          "output_type": "execute_result",
          "data": {
            "text/plain": [
              "'histori'"
            ],
            "application/vnd.google.colaboratory.intrinsic+json": {
              "type": "string"
            }
          },
          "metadata": {},
          "execution_count": 9
        }
      ]
    },
    {
      "cell_type": "code",
      "source": [
        "### Lemitization\n",
        "\n",
        "from nltk.stem import WordNetLemmatizer\n",
        "\n",
        "nltk.download('wordnet')\n",
        "nltk.download('omw-1.4')\n",
        "lemmatizer=WordNetLemmatizer()"
      ],
      "metadata": {
        "colab": {
          "base_uri": "https://localhost:8080/"
        },
        "id": "kKyPUQV-I4tl",
        "outputId": "a1191ddc-357c-4a79-fc99-3afcc67dd60d"
      },
      "execution_count": 10,
      "outputs": [
        {
          "output_type": "stream",
          "name": "stderr",
          "text": [
            "[nltk_data] Downloading package wordnet to /root/nltk_data...\n",
            "[nltk_data] Downloading package omw-1.4 to /root/nltk_data...\n"
          ]
        }
      ]
    },
    {
      "cell_type": "code",
      "source": [
        "lemmatizer.lemmatize('drinking')"
      ],
      "metadata": {
        "colab": {
          "base_uri": "https://localhost:8080/",
          "height": 35
        },
        "id": "dO1JOcLgJSHg",
        "outputId": "0f12d2cf-bb45-4c48-8801-8e34dbed653a"
      },
      "execution_count": 11,
      "outputs": [
        {
          "output_type": "execute_result",
          "data": {
            "text/plain": [
              "'drinking'"
            ],
            "application/vnd.google.colaboratory.intrinsic+json": {
              "type": "string"
            }
          },
          "metadata": {},
          "execution_count": 11
        }
      ]
    },
    {
      "cell_type": "code",
      "source": [
        "## Cleaning the entire paragraph because it has special characters\n",
        "\n",
        "import re\n",
        "corpus=[]\n",
        "for i in range(len(scentences)):\n",
        "  review=re.sub('[^a-zA-Z]',' ', scentences[i])\n",
        "  review=review.lower()\n",
        "  corpus.append(review)"
      ],
      "metadata": {
        "id": "RKjDOI-rJXWn"
      },
      "execution_count": 12,
      "outputs": []
    },
    {
      "cell_type": "code",
      "source": [
        "corpus"
      ],
      "metadata": {
        "colab": {
          "base_uri": "https://localhost:8080/"
        },
        "id": "AOaTDo1hLJBH",
        "outputId": "b860c958-ba0f-49a0-bf81-385ab8d64052"
      },
      "execution_count": 13,
      "outputs": [
        {
          "output_type": "execute_result",
          "data": {
            "text/plain": [
              "[' narendra damodardas modi  gujarati    n  end   d mod   d s  modi    listen   born    september       b  is an indian politician serving as the   th and current prime minister of india since      ',\n",
              " 'modi was the chief minister of gujarat from      to      and is the member of parliament from varanasi ',\n",
              " 'he is a member of the bharatiya janata party  bjp  and of the rashtriya swayamsevak sangh  rss   a right wing hindu nationalist paramilitary volunteer organisation ',\n",
              " 'he is the longest serving prime minister from outside the indian national congress ',\n",
              " 'modi was born and raised in vadnagar in northeastern gujarat  where he completed his secondary education ',\n",
              " 'he was introduced to the rss at age eight ',\n",
              " 'he has discussed having to work as a child in his father s tea stall in the vadnagar railway station  which has not been reliably corroborated ',\n",
              " 'at age     modi was married to jashodaben chimanlal modi  whom he abandoned soon after ',\n",
              " 'he first publicly acknowledged her as his wife more than four decades later when required to do so by indian law  but has made no contact with her since ',\n",
              " 'modi has asserted he had travelled in northern india for two years after leaving his parental home  visiting a number of religious centres  but few details of his travels have emerged ',\n",
              " 'upon his return to gujarat in       he became a full time worker for the rss ',\n",
              " 'after the state of emergency was declared by prime minister indira gandhi in       modi went into hiding ',\n",
              " 'the rss assigned him to the bjp in      and he held several positions within the party hierarchy until       rising to the rank of general secretary ']"
            ]
          },
          "metadata": {},
          "execution_count": 13
        }
      ]
    },
    {
      "cell_type": "code",
      "source": [
        "# stopwords\n",
        "\n",
        "nltk.download('stopwords')\n",
        "stopwords.words('english')"
      ],
      "metadata": {
        "colab": {
          "base_uri": "https://localhost:8080/"
        },
        "id": "tLUFRzQoMm9k",
        "outputId": "1e692ae7-f6c7-43bd-aa3b-e677d3dec048"
      },
      "execution_count": 14,
      "outputs": [
        {
          "output_type": "stream",
          "name": "stderr",
          "text": [
            "[nltk_data] Downloading package stopwords to /root/nltk_data...\n",
            "[nltk_data]   Unzipping corpora/stopwords.zip.\n"
          ]
        },
        {
          "output_type": "execute_result",
          "data": {
            "text/plain": [
              "['i',\n",
              " 'me',\n",
              " 'my',\n",
              " 'myself',\n",
              " 'we',\n",
              " 'our',\n",
              " 'ours',\n",
              " 'ourselves',\n",
              " 'you',\n",
              " \"you're\",\n",
              " \"you've\",\n",
              " \"you'll\",\n",
              " \"you'd\",\n",
              " 'your',\n",
              " 'yours',\n",
              " 'yourself',\n",
              " 'yourselves',\n",
              " 'he',\n",
              " 'him',\n",
              " 'his',\n",
              " 'himself',\n",
              " 'she',\n",
              " \"she's\",\n",
              " 'her',\n",
              " 'hers',\n",
              " 'herself',\n",
              " 'it',\n",
              " \"it's\",\n",
              " 'its',\n",
              " 'itself',\n",
              " 'they',\n",
              " 'them',\n",
              " 'their',\n",
              " 'theirs',\n",
              " 'themselves',\n",
              " 'what',\n",
              " 'which',\n",
              " 'who',\n",
              " 'whom',\n",
              " 'this',\n",
              " 'that',\n",
              " \"that'll\",\n",
              " 'these',\n",
              " 'those',\n",
              " 'am',\n",
              " 'is',\n",
              " 'are',\n",
              " 'was',\n",
              " 'were',\n",
              " 'be',\n",
              " 'been',\n",
              " 'being',\n",
              " 'have',\n",
              " 'has',\n",
              " 'had',\n",
              " 'having',\n",
              " 'do',\n",
              " 'does',\n",
              " 'did',\n",
              " 'doing',\n",
              " 'a',\n",
              " 'an',\n",
              " 'the',\n",
              " 'and',\n",
              " 'but',\n",
              " 'if',\n",
              " 'or',\n",
              " 'because',\n",
              " 'as',\n",
              " 'until',\n",
              " 'while',\n",
              " 'of',\n",
              " 'at',\n",
              " 'by',\n",
              " 'for',\n",
              " 'with',\n",
              " 'about',\n",
              " 'against',\n",
              " 'between',\n",
              " 'into',\n",
              " 'through',\n",
              " 'during',\n",
              " 'before',\n",
              " 'after',\n",
              " 'above',\n",
              " 'below',\n",
              " 'to',\n",
              " 'from',\n",
              " 'up',\n",
              " 'down',\n",
              " 'in',\n",
              " 'out',\n",
              " 'on',\n",
              " 'off',\n",
              " 'over',\n",
              " 'under',\n",
              " 'again',\n",
              " 'further',\n",
              " 'then',\n",
              " 'once',\n",
              " 'here',\n",
              " 'there',\n",
              " 'when',\n",
              " 'where',\n",
              " 'why',\n",
              " 'how',\n",
              " 'all',\n",
              " 'any',\n",
              " 'both',\n",
              " 'each',\n",
              " 'few',\n",
              " 'more',\n",
              " 'most',\n",
              " 'other',\n",
              " 'some',\n",
              " 'such',\n",
              " 'no',\n",
              " 'nor',\n",
              " 'not',\n",
              " 'only',\n",
              " 'own',\n",
              " 'same',\n",
              " 'so',\n",
              " 'than',\n",
              " 'too',\n",
              " 'very',\n",
              " 's',\n",
              " 't',\n",
              " 'can',\n",
              " 'will',\n",
              " 'just',\n",
              " 'don',\n",
              " \"don't\",\n",
              " 'should',\n",
              " \"should've\",\n",
              " 'now',\n",
              " 'd',\n",
              " 'll',\n",
              " 'm',\n",
              " 'o',\n",
              " 're',\n",
              " 've',\n",
              " 'y',\n",
              " 'ain',\n",
              " 'aren',\n",
              " \"aren't\",\n",
              " 'couldn',\n",
              " \"couldn't\",\n",
              " 'didn',\n",
              " \"didn't\",\n",
              " 'doesn',\n",
              " \"doesn't\",\n",
              " 'hadn',\n",
              " \"hadn't\",\n",
              " 'hasn',\n",
              " \"hasn't\",\n",
              " 'haven',\n",
              " \"haven't\",\n",
              " 'isn',\n",
              " \"isn't\",\n",
              " 'ma',\n",
              " 'mightn',\n",
              " \"mightn't\",\n",
              " 'mustn',\n",
              " \"mustn't\",\n",
              " 'needn',\n",
              " \"needn't\",\n",
              " 'shan',\n",
              " \"shan't\",\n",
              " 'shouldn',\n",
              " \"shouldn't\",\n",
              " 'wasn',\n",
              " \"wasn't\",\n",
              " 'weren',\n",
              " \"weren't\",\n",
              " 'won',\n",
              " \"won't\",\n",
              " 'wouldn',\n",
              " \"wouldn't\"]"
            ]
          },
          "metadata": {},
          "execution_count": 14
        }
      ]
    },
    {
      "cell_type": "code",
      "source": [
        "## Stemming\n",
        "\n",
        "for i in corpus:\n",
        "  words=nltk.word_tokenize(i)\n",
        "  for word in words:\n",
        "    if word not in set(stopwords.words('english')):\n",
        "      print(stemmer.stem(word))"
      ],
      "metadata": {
        "colab": {
          "base_uri": "https://localhost:8080/"
        },
        "id": "SpSa2J85LSsk",
        "outputId": "5152c566-0e28-422c-e603-fd494fa5776d"
      },
      "execution_count": 15,
      "outputs": [
        {
          "output_type": "stream",
          "name": "stdout",
          "text": [
            "narendra\n",
            "damodarda\n",
            "modi\n",
            "gujarati\n",
            "n\n",
            "end\n",
            "mod\n",
            "modi\n",
            "listen\n",
            "born\n",
            "septemb\n",
            "b\n",
            "indian\n",
            "politician\n",
            "serv\n",
            "th\n",
            "current\n",
            "prime\n",
            "minist\n",
            "india\n",
            "sinc\n",
            "modi\n",
            "chief\n",
            "minist\n",
            "gujarat\n",
            "member\n",
            "parliament\n",
            "varanasi\n",
            "member\n",
            "bharatiya\n",
            "janata\n",
            "parti\n",
            "bjp\n",
            "rashtriya\n",
            "swayamsevak\n",
            "sangh\n",
            "rss\n",
            "right\n",
            "wing\n",
            "hindu\n",
            "nationalist\n",
            "paramilitari\n",
            "volunt\n",
            "organis\n",
            "longest\n",
            "serv\n",
            "prime\n",
            "minist\n",
            "outsid\n",
            "indian\n",
            "nation\n",
            "congress\n",
            "modi\n",
            "born\n",
            "rais\n",
            "vadnagar\n",
            "northeastern\n",
            "gujarat\n",
            "complet\n",
            "secondari\n",
            "educ\n",
            "introduc\n",
            "rss\n",
            "age\n",
            "eight\n",
            "discuss\n",
            "work\n",
            "child\n",
            "father\n",
            "tea\n",
            "stall\n",
            "vadnagar\n",
            "railway\n",
            "station\n",
            "reliabl\n",
            "corrobor\n",
            "age\n",
            "modi\n",
            "marri\n",
            "jashodaben\n",
            "chimanl\n",
            "modi\n",
            "abandon\n",
            "soon\n",
            "first\n",
            "publicli\n",
            "acknowledg\n",
            "wife\n",
            "four\n",
            "decad\n",
            "later\n",
            "requir\n",
            "indian\n",
            "law\n",
            "made\n",
            "contact\n",
            "sinc\n",
            "modi\n",
            "assert\n",
            "travel\n",
            "northern\n",
            "india\n",
            "two\n",
            "year\n",
            "leav\n",
            "parent\n",
            "home\n",
            "visit\n",
            "number\n",
            "religi\n",
            "centr\n",
            "detail\n",
            "travel\n",
            "emerg\n",
            "upon\n",
            "return\n",
            "gujarat\n",
            "becam\n",
            "full\n",
            "time\n",
            "worker\n",
            "rss\n",
            "state\n",
            "emerg\n",
            "declar\n",
            "prime\n",
            "minist\n",
            "indira\n",
            "gandhi\n",
            "modi\n",
            "went\n",
            "hide\n",
            "rss\n",
            "assign\n",
            "bjp\n",
            "held\n",
            "sever\n",
            "posit\n",
            "within\n",
            "parti\n",
            "hierarchi\n",
            "rise\n",
            "rank\n",
            "gener\n",
            "secretari\n"
          ]
        }
      ]
    },
    {
      "cell_type": "code",
      "source": [
        "## lemmatization\n",
        "\n",
        "for i in corpus:\n",
        "  words=nltk.word_tokenize(i)\n",
        "  for word in words:\n",
        "    if word not in set(stopwords.words('english')):\n",
        "      print(lemmatizer.lemmatize(word))\n"
      ],
      "metadata": {
        "colab": {
          "base_uri": "https://localhost:8080/"
        },
        "id": "rPat6dAULoGv",
        "outputId": "b1a96e9f-6a9d-4124-f385-2cf8fd2b728b"
      },
      "execution_count": 16,
      "outputs": [
        {
          "output_type": "stream",
          "name": "stdout",
          "text": [
            "narendra\n",
            "damodardas\n",
            "modi\n",
            "gujarati\n",
            "n\n",
            "end\n",
            "mod\n",
            "modi\n",
            "listen\n",
            "born\n",
            "september\n",
            "b\n",
            "indian\n",
            "politician\n",
            "serving\n",
            "th\n",
            "current\n",
            "prime\n",
            "minister\n",
            "india\n",
            "since\n",
            "modi\n",
            "chief\n",
            "minister\n",
            "gujarat\n",
            "member\n",
            "parliament\n",
            "varanasi\n",
            "member\n",
            "bharatiya\n",
            "janata\n",
            "party\n",
            "bjp\n",
            "rashtriya\n",
            "swayamsevak\n",
            "sangh\n",
            "r\n",
            "right\n",
            "wing\n",
            "hindu\n",
            "nationalist\n",
            "paramilitary\n",
            "volunteer\n",
            "organisation\n",
            "longest\n",
            "serving\n",
            "prime\n",
            "minister\n",
            "outside\n",
            "indian\n",
            "national\n",
            "congress\n",
            "modi\n",
            "born\n",
            "raised\n",
            "vadnagar\n",
            "northeastern\n",
            "gujarat\n",
            "completed\n",
            "secondary\n",
            "education\n",
            "introduced\n",
            "r\n",
            "age\n",
            "eight\n",
            "discussed\n",
            "work\n",
            "child\n",
            "father\n",
            "tea\n",
            "stall\n",
            "vadnagar\n",
            "railway\n",
            "station\n",
            "reliably\n",
            "corroborated\n",
            "age\n",
            "modi\n",
            "married\n",
            "jashodaben\n",
            "chimanlal\n",
            "modi\n",
            "abandoned\n",
            "soon\n",
            "first\n",
            "publicly\n",
            "acknowledged\n",
            "wife\n",
            "four\n",
            "decade\n",
            "later\n",
            "required\n",
            "indian\n",
            "law\n",
            "made\n",
            "contact\n",
            "since\n",
            "modi\n",
            "asserted\n",
            "travelled\n",
            "northern\n",
            "india\n",
            "two\n",
            "year\n",
            "leaving\n",
            "parental\n",
            "home\n",
            "visiting\n",
            "number\n",
            "religious\n",
            "centre\n",
            "detail\n",
            "travel\n",
            "emerged\n",
            "upon\n",
            "return\n",
            "gujarat\n",
            "became\n",
            "full\n",
            "time\n",
            "worker\n",
            "r\n",
            "state\n",
            "emergency\n",
            "declared\n",
            "prime\n",
            "minister\n",
            "indira\n",
            "gandhi\n",
            "modi\n",
            "went\n",
            "hiding\n",
            "r\n",
            "assigned\n",
            "bjp\n",
            "held\n",
            "several\n",
            "position\n",
            "within\n",
            "party\n",
            "hierarchy\n",
            "rising\n",
            "rank\n",
            "general\n",
            "secretary\n"
          ]
        }
      ]
    },
    {
      "cell_type": "markdown",
      "source": [
        "# Bag of woods"
      ],
      "metadata": {
        "id": "DjRxQgKAeB8p"
      }
    },
    {
      "cell_type": "code",
      "source": [
        "## Bag of words\n",
        "\n",
        "from sklearn.feature_extraction.text import CountVectorizer\n",
        "cv=CountVectorizer(binary=True)"
      ],
      "metadata": {
        "id": "6WkB9ZFLNYRF"
      },
      "execution_count": 17,
      "outputs": []
    },
    {
      "cell_type": "code",
      "source": [
        "X=cv.fit_transform(corpus)"
      ],
      "metadata": {
        "id": "H2DkFNfON0mN"
      },
      "execution_count": 18,
      "outputs": []
    },
    {
      "cell_type": "code",
      "source": [
        "cv.vocabulary_"
      ],
      "metadata": {
        "colab": {
          "base_uri": "https://localhost:8080/"
        },
        "id": "vbgITwh-OE-g",
        "outputId": "bef80de4-4c3a-4466-c24f-91e6f9e184b4"
      },
      "execution_count": 19,
      "outputs": [
        {
          "output_type": "execute_result",
          "data": {
            "text/plain": [
              "{'narendra': 82,\n",
              " 'damodardas': 26,\n",
              " 'modi': 80,\n",
              " 'gujarati': 47,\n",
              " 'end': 36,\n",
              " 'mod': 79,\n",
              " 'listen': 73,\n",
              " 'born': 14,\n",
              " 'september': 115,\n",
              " 'is': 67,\n",
              " 'an': 4,\n",
              " 'indian': 63,\n",
              " 'politician': 97,\n",
              " 'serving': 116,\n",
              " 'as': 6,\n",
              " 'the': 128,\n",
              " 'th': 126,\n",
              " 'and': 5,\n",
              " 'current': 25,\n",
              " 'prime': 99,\n",
              " 'minister': 78,\n",
              " 'of': 90,\n",
              " 'india': 62,\n",
              " 'since': 118,\n",
              " 'was': 140,\n",
              " 'chief': 18,\n",
              " 'gujarat': 46,\n",
              " 'from': 42,\n",
              " 'to': 130,\n",
              " 'member': 77,\n",
              " 'parliament': 95,\n",
              " 'varanasi': 137,\n",
              " 'he': 52,\n",
              " 'bharatiya': 12,\n",
              " 'janata': 68,\n",
              " 'party': 96,\n",
              " 'bjp': 13,\n",
              " 'rashtriya': 104,\n",
              " 'swayamsevak': 124,\n",
              " 'sangh': 112,\n",
              " 'rss': 111,\n",
              " 'right': 109,\n",
              " 'wing': 147,\n",
              " 'hindu': 58,\n",
              " 'nationalist': 84,\n",
              " 'paramilitary': 93,\n",
              " 'volunteer': 139,\n",
              " 'organisation': 91,\n",
              " 'longest': 74,\n",
              " 'outside': 92,\n",
              " 'national': 83,\n",
              " 'congress': 22,\n",
              " 'raised': 102,\n",
              " 'in': 61,\n",
              " 'vadnagar': 136,\n",
              " 'northeastern': 86,\n",
              " 'where': 143,\n",
              " 'completed': 21,\n",
              " 'his': 59,\n",
              " 'secondary': 113,\n",
              " 'education': 32,\n",
              " 'introduced': 66,\n",
              " 'at': 9,\n",
              " 'age': 3,\n",
              " 'eight': 33,\n",
              " 'has': 49,\n",
              " 'discussed': 30,\n",
              " 'having': 51,\n",
              " 'work': 150,\n",
              " 'child': 19,\n",
              " 'father': 37,\n",
              " 'tea': 125,\n",
              " 'stall': 121,\n",
              " 'railway': 101,\n",
              " 'station': 123,\n",
              " 'which': 144,\n",
              " 'not': 88,\n",
              " 'been': 11,\n",
              " 'reliably': 105,\n",
              " 'corroborated': 24,\n",
              " 'married': 76,\n",
              " 'jashodaben': 69,\n",
              " 'chimanlal': 20,\n",
              " 'whom': 145,\n",
              " 'abandoned': 0,\n",
              " 'soon': 120,\n",
              " 'after': 2,\n",
              " 'first': 39,\n",
              " 'publicly': 100,\n",
              " 'acknowledged': 1,\n",
              " 'her': 54,\n",
              " 'wife': 146,\n",
              " 'more': 81,\n",
              " 'than': 127,\n",
              " 'four': 41,\n",
              " 'decades': 27,\n",
              " 'later': 70,\n",
              " 'when': 142,\n",
              " 'required': 107,\n",
              " 'do': 31,\n",
              " 'so': 119,\n",
              " 'by': 16,\n",
              " 'law': 71,\n",
              " 'but': 15,\n",
              " 'made': 75,\n",
              " 'no': 85,\n",
              " 'contact': 23,\n",
              " 'with': 148,\n",
              " 'asserted': 7,\n",
              " 'had': 48,\n",
              " 'travelled': 131,\n",
              " 'northern': 87,\n",
              " 'for': 40,\n",
              " 'two': 133,\n",
              " 'years': 152,\n",
              " 'leaving': 72,\n",
              " 'parental': 94,\n",
              " 'home': 60,\n",
              " 'visiting': 138,\n",
              " 'number': 89,\n",
              " 'religious': 106,\n",
              " 'centres': 17,\n",
              " 'few': 38,\n",
              " 'details': 29,\n",
              " 'travels': 132,\n",
              " 'have': 50,\n",
              " 'emerged': 34,\n",
              " 'upon': 135,\n",
              " 'return': 108,\n",
              " 'became': 10,\n",
              " 'full': 43,\n",
              " 'time': 129,\n",
              " 'worker': 151,\n",
              " 'state': 122,\n",
              " 'emergency': 35,\n",
              " 'declared': 28,\n",
              " 'indira': 64,\n",
              " 'gandhi': 44,\n",
              " 'went': 141,\n",
              " 'into': 65,\n",
              " 'hiding': 55,\n",
              " 'assigned': 8,\n",
              " 'him': 57,\n",
              " 'held': 53,\n",
              " 'several': 117,\n",
              " 'positions': 98,\n",
              " 'within': 149,\n",
              " 'hierarchy': 56,\n",
              " 'until': 134,\n",
              " 'rising': 110,\n",
              " 'rank': 103,\n",
              " 'general': 45,\n",
              " 'secretary': 114}"
            ]
          },
          "metadata": {},
          "execution_count": 19
        }
      ]
    },
    {
      "cell_type": "code",
      "source": [
        "corpus[0]"
      ],
      "metadata": {
        "colab": {
          "base_uri": "https://localhost:8080/",
          "height": 53
        },
        "id": "cZMSQL7JOIC_",
        "outputId": "7d1e2ff5-c37c-42a3-b5a7-2add4a49b878"
      },
      "execution_count": 20,
      "outputs": [
        {
          "output_type": "execute_result",
          "data": {
            "text/plain": [
              "' narendra damodardas modi  gujarati    n  end   d mod   d s  modi    listen   born    september       b  is an indian politician serving as the   th and current prime minister of india since      '"
            ],
            "application/vnd.google.colaboratory.intrinsic+json": {
              "type": "string"
            }
          },
          "metadata": {},
          "execution_count": 20
        }
      ]
    },
    {
      "cell_type": "code",
      "source": [
        "X[0].toarray()"
      ],
      "metadata": {
        "colab": {
          "base_uri": "https://localhost:8080/"
        },
        "id": "EZxwXF-gOQEv",
        "outputId": "6c66090a-8eb8-481a-e64a-3733ef498e11"
      },
      "execution_count": 21,
      "outputs": [
        {
          "output_type": "execute_result",
          "data": {
            "text/plain": [
              "array([[0, 0, 0, 0, 1, 1, 1, 0, 0, 0, 0, 0, 0, 0, 1, 0, 0, 0, 0, 0, 0, 0,\n",
              "        0, 0, 0, 1, 1, 0, 0, 0, 0, 0, 0, 0, 0, 0, 1, 0, 0, 0, 0, 0, 0, 0,\n",
              "        0, 0, 0, 1, 0, 0, 0, 0, 0, 0, 0, 0, 0, 0, 0, 0, 0, 0, 1, 1, 0, 0,\n",
              "        0, 1, 0, 0, 0, 0, 0, 1, 0, 0, 0, 0, 1, 1, 1, 0, 1, 0, 0, 0, 0, 0,\n",
              "        0, 0, 1, 0, 0, 0, 0, 0, 0, 1, 0, 1, 0, 0, 0, 0, 0, 0, 0, 0, 0, 0,\n",
              "        0, 0, 0, 0, 0, 1, 1, 0, 1, 0, 0, 0, 0, 0, 0, 0, 1, 0, 1, 0, 0, 0,\n",
              "        0, 0, 0, 0, 0, 0, 0, 0, 0, 0, 0, 0, 0, 0, 0, 0, 0, 0, 0, 0, 0]])"
            ]
          },
          "metadata": {},
          "execution_count": 21
        }
      ]
    },
    {
      "cell_type": "code",
      "source": [],
      "metadata": {
        "id": "bMW6XZ6tOU6C"
      },
      "execution_count": 21,
      "outputs": []
    },
    {
      "cell_type": "code",
      "source": [
        "# BOW-ngram\n",
        "\n",
        "from sklearn.feature_extraction.text import CountVectorizer\n",
        "cv=CountVectorizer(binary=True,ngram_range=(2,3))"
      ],
      "metadata": {
        "id": "BnE1v5ZVO-mr"
      },
      "execution_count": 23,
      "outputs": []
    },
    {
      "cell_type": "code",
      "source": [
        "X=cv.fit_transform(corpus)"
      ],
      "metadata": {
        "id": "gwqBcNYCdthY"
      },
      "execution_count": 24,
      "outputs": []
    },
    {
      "cell_type": "code",
      "source": [
        "cv.vocabulary_"
      ],
      "metadata": {
        "id": "bhr2opYOd1n9",
        "outputId": "36c78a9b-a3ba-4f2c-daa2-bd922473be79",
        "colab": {
          "base_uri": "https://localhost:8080/"
        }
      },
      "execution_count": 25,
      "outputs": [
        {
          "output_type": "execute_result",
          "data": {
            "text/plain": [
              "{'narendra damodardas': 258,\n",
              " 'damodardas modi': 72,\n",
              " 'modi gujarati': 242,\n",
              " 'gujarati end': 116,\n",
              " 'end mod': 86,\n",
              " 'mod modi': 240,\n",
              " 'modi listen': 246,\n",
              " 'listen born': 222,\n",
              " 'born september': 48,\n",
              " 'september is': 340,\n",
              " 'is an': 205,\n",
              " 'an indian': 11,\n",
              " 'indian politician': 198,\n",
              " 'politician serving': 302,\n",
              " 'serving as': 342,\n",
              " 'as the': 27,\n",
              " 'the th': 388,\n",
              " 'th and': 361,\n",
              " 'and current': 13,\n",
              " 'current prime': 70,\n",
              " 'prime minister': 306,\n",
              " 'minister of': 237,\n",
              " 'of india': 281,\n",
              " 'india since': 193,\n",
              " 'narendra damodardas modi': 259,\n",
              " 'damodardas modi gujarati': 73,\n",
              " 'modi gujarati end': 243,\n",
              " 'gujarati end mod': 117,\n",
              " 'end mod modi': 87,\n",
              " 'mod modi listen': 241,\n",
              " 'modi listen born': 247,\n",
              " 'listen born september': 223,\n",
              " 'born september is': 49,\n",
              " 'september is an': 341,\n",
              " 'is an indian': 206,\n",
              " 'an indian politician': 12,\n",
              " 'indian politician serving': 199,\n",
              " 'politician serving as': 303,\n",
              " 'serving as the': 343,\n",
              " 'as the th': 28,\n",
              " 'the th and': 389,\n",
              " 'th and current': 362,\n",
              " 'and current prime': 14,\n",
              " 'current prime minister': 71,\n",
              " 'prime minister of': 309,\n",
              " 'minister of india': 239,\n",
              " 'of india since': 282,\n",
              " 'modi was': 248,\n",
              " 'was the': 433,\n",
              " 'the chief': 369,\n",
              " 'chief minister': 60,\n",
              " 'of gujarat': 277,\n",
              " 'gujarat from': 110,\n",
              " 'from to': 102,\n",
              " 'to and': 394,\n",
              " 'and is': 17,\n",
              " 'is the': 209,\n",
              " 'the member': 375,\n",
              " 'member of': 230,\n",
              " 'of parliament': 283,\n",
              " 'parliament from': 296,\n",
              " 'from varanasi': 104,\n",
              " 'modi was the': 251,\n",
              " 'was the chief': 434,\n",
              " 'the chief minister': 370,\n",
              " 'chief minister of': 61,\n",
              " 'minister of gujarat': 238,\n",
              " 'of gujarat from': 278,\n",
              " 'gujarat from to': 111,\n",
              " 'from to and': 103,\n",
              " 'to and is': 395,\n",
              " 'and is the': 18,\n",
              " 'is the member': 211,\n",
              " 'the member of': 376,\n",
              " 'member of parliament': 231,\n",
              " 'of parliament from': 284,\n",
              " 'parliament from varanasi': 297,\n",
              " 'he is': 145,\n",
              " 'is member': 207,\n",
              " 'of the': 287,\n",
              " 'the bharatiya': 365,\n",
              " 'bharatiya janata': 40,\n",
              " 'janata party': 212,\n",
              " 'party bjp': 298,\n",
              " 'bjp and': 42,\n",
              " 'and of': 19,\n",
              " 'the rashtriya': 381,\n",
              " 'rashtriya swayamsevak': 318,\n",
              " 'swayamsevak sangh': 357,\n",
              " 'sangh rss': 337,\n",
              " 'rss right': 335,\n",
              " 'right wing': 327,\n",
              " 'wing hindu': 447,\n",
              " 'hindu nationalist': 159,\n",
              " 'nationalist paramilitary': 261,\n",
              " 'paramilitary volunteer': 292,\n",
              " 'volunteer organisation': 424,\n",
              " 'he is member': 146,\n",
              " 'is member of': 208,\n",
              " 'member of the': 232,\n",
              " 'of the bharatiya': 288,\n",
              " 'the bharatiya janata': 366,\n",
              " 'bharatiya janata party': 41,\n",
              " 'janata party bjp': 213,\n",
              " 'party bjp and': 299,\n",
              " 'bjp and of': 43,\n",
              " 'and of the': 20,\n",
              " 'of the rashtriya': 289,\n",
              " 'the rashtriya swayamsevak': 382,\n",
              " 'rashtriya swayamsevak sangh': 319,\n",
              " 'swayamsevak sangh rss': 358,\n",
              " 'sangh rss right': 338,\n",
              " 'rss right wing': 336,\n",
              " 'right wing hindu': 328,\n",
              " 'wing hindu nationalist': 448,\n",
              " 'hindu nationalist paramilitary': 160,\n",
              " 'nationalist paramilitary volunteer': 262,\n",
              " 'paramilitary volunteer organisation': 293,\n",
              " 'the longest': 373,\n",
              " 'longest serving': 224,\n",
              " 'serving prime': 344,\n",
              " 'minister from': 233,\n",
              " 'from outside': 100,\n",
              " 'outside the': 290,\n",
              " 'the indian': 371,\n",
              " 'indian national': 196,\n",
              " 'national congress': 260,\n",
              " 'he is the': 147,\n",
              " 'is the longest': 210,\n",
              " 'the longest serving': 374,\n",
              " 'longest serving prime': 225,\n",
              " 'serving prime minister': 345,\n",
              " 'prime minister from': 307,\n",
              " 'minister from outside': 234,\n",
              " 'from outside the': 101,\n",
              " 'outside the indian': 291,\n",
              " 'the indian national': 372,\n",
              " 'indian national congress': 197,\n",
              " 'was born': 425,\n",
              " 'born and': 46,\n",
              " 'and raised': 21,\n",
              " 'raised in': 314,\n",
              " 'in vadnagar': 189,\n",
              " 'vadnagar in': 418,\n",
              " 'in northeastern': 183,\n",
              " 'northeastern gujarat': 265,\n",
              " 'gujarat where': 114,\n",
              " 'where he': 439,\n",
              " 'he completed': 135,\n",
              " 'completed his': 66,\n",
              " 'his secondary': 167,\n",
              " 'secondary education': 339,\n",
              " 'modi was born': 249,\n",
              " 'was born and': 426,\n",
              " 'born and raised': 47,\n",
              " 'and raised in': 22,\n",
              " 'raised in vadnagar': 315,\n",
              " 'in vadnagar in': 190,\n",
              " 'vadnagar in northeastern': 419,\n",
              " 'in northeastern gujarat': 184,\n",
              " 'northeastern gujarat where': 266,\n",
              " 'gujarat where he': 115,\n",
              " 'where he completed': 440,\n",
              " 'he completed his': 136,\n",
              " 'completed his secondary': 67,\n",
              " 'his secondary education': 168,\n",
              " 'he was': 148,\n",
              " 'was introduced': 429,\n",
              " 'introduced to': 203,\n",
              " 'to the': 402,\n",
              " 'the rss': 383,\n",
              " 'rss at': 333,\n",
              " 'at age': 33,\n",
              " 'age eight': 8,\n",
              " 'he was introduced': 149,\n",
              " 'was introduced to': 430,\n",
              " 'introduced to the': 204,\n",
              " 'to the rss': 405,\n",
              " 'the rss at': 385,\n",
              " 'rss at age': 334,\n",
              " 'at age eight': 34,\n",
              " 'he has': 141,\n",
              " 'has discussed': 122,\n",
              " 'discussed having': 80,\n",
              " 'having to': 129,\n",
              " 'to work': 406,\n",
              " 'work as': 453,\n",
              " 'as child': 23,\n",
              " 'child in': 62,\n",
              " 'in his': 179,\n",
              " 'his father': 161,\n",
              " 'father tea': 88,\n",
              " 'tea stall': 359,\n",
              " 'stall in': 351,\n",
              " 'in the': 187,\n",
              " 'the vadnagar': 390,\n",
              " 'vadnagar railway': 420,\n",
              " 'railway station': 312,\n",
              " 'station which': 355,\n",
              " 'which has': 441,\n",
              " 'has not': 126,\n",
              " 'not been': 269,\n",
              " 'been reliably': 38,\n",
              " 'reliably corroborated': 320,\n",
              " 'he has discussed': 142,\n",
              " 'has discussed having': 123,\n",
              " 'discussed having to': 81,\n",
              " 'having to work': 130,\n",
              " 'to work as': 407,\n",
              " 'work as child': 454,\n",
              " 'as child in': 24,\n",
              " 'child in his': 63,\n",
              " 'in his father': 180,\n",
              " 'his father tea': 162,\n",
              " 'father tea stall': 89,\n",
              " 'tea stall in': 360,\n",
              " 'stall in the': 352,\n",
              " 'in the vadnagar': 188,\n",
              " 'the vadnagar railway': 391,\n",
              " 'vadnagar railway station': 421,\n",
              " 'railway station which': 313,\n",
              " 'station which has': 356,\n",
              " 'which has not': 442,\n",
              " 'has not been': 127,\n",
              " 'not been reliably': 270,\n",
              " 'been reliably corroborated': 39,\n",
              " 'age modi': 9,\n",
              " 'was married': 431,\n",
              " 'married to': 228,\n",
              " 'to jashodaben': 400,\n",
              " 'jashodaben chimanlal': 214,\n",
              " 'chimanlal modi': 64,\n",
              " 'modi whom': 254,\n",
              " 'whom he': 443,\n",
              " 'he abandoned': 131,\n",
              " 'abandoned soon': 0,\n",
              " 'soon after': 350,\n",
              " 'at age modi': 35,\n",
              " 'age modi was': 10,\n",
              " 'modi was married': 250,\n",
              " 'was married to': 432,\n",
              " 'married to jashodaben': 229,\n",
              " 'to jashodaben chimanlal': 401,\n",
              " 'jashodaben chimanlal modi': 215,\n",
              " 'chimanlal modi whom': 65,\n",
              " 'modi whom he': 255,\n",
              " 'whom he abandoned': 444,\n",
              " 'he abandoned soon': 132,\n",
              " 'abandoned soon after': 1,\n",
              " 'he first': 137,\n",
              " 'first publicly': 92,\n",
              " 'publicly acknowledged': 310,\n",
              " 'acknowledged her': 2,\n",
              " 'her as': 152,\n",
              " 'as his': 25,\n",
              " 'his wife': 171,\n",
              " 'wife more': 445,\n",
              " 'more than': 256,\n",
              " 'than four': 363,\n",
              " 'four decades': 98,\n",
              " 'decades later': 74,\n",
              " 'later when': 216,\n",
              " 'when required': 437,\n",
              " 'required to': 323,\n",
              " 'to do': 396,\n",
              " 'do so': 82,\n",
              " 'so by': 348,\n",
              " 'by indian': 54,\n",
              " 'indian law': 194,\n",
              " 'law but': 218,\n",
              " 'but has': 52,\n",
              " 'has made': 124,\n",
              " 'made no': 226,\n",
              " 'no contact': 263,\n",
              " 'contact with': 68,\n",
              " 'with her': 449,\n",
              " 'her since': 154,\n",
              " 'he first publicly': 138,\n",
              " 'first publicly acknowledged': 93,\n",
              " 'publicly acknowledged her': 311,\n",
              " 'acknowledged her as': 3,\n",
              " 'her as his': 153,\n",
              " 'as his wife': 26,\n",
              " 'his wife more': 172,\n",
              " 'wife more than': 446,\n",
              " 'more than four': 257,\n",
              " 'than four decades': 364,\n",
              " 'four decades later': 99,\n",
              " 'decades later when': 75,\n",
              " 'later when required': 217,\n",
              " 'when required to': 438,\n",
              " 'required to do': 324,\n",
              " 'to do so': 397,\n",
              " 'do so by': 83,\n",
              " 'so by indian': 349,\n",
              " 'by indian law': 55,\n",
              " 'indian law but': 195,\n",
              " 'law but has': 219,\n",
              " 'but has made': 53,\n",
              " 'has made no': 125,\n",
              " 'made no contact': 227,\n",
              " 'no contact with': 264,\n",
              " 'contact with her': 69,\n",
              " 'with her since': 450,\n",
              " 'modi has': 244,\n",
              " 'has asserted': 120,\n",
              " 'asserted he': 29,\n",
              " 'he had': 139,\n",
              " 'had travelled': 118,\n",
              " 'travelled in': 408,\n",
              " 'in northern': 185,\n",
              " 'northern india': 267,\n",
              " 'india for': 191,\n",
              " 'for two': 96,\n",
              " 'two years': 412,\n",
              " 'years after': 457,\n",
              " 'after leaving': 4,\n",
              " 'leaving his': 220,\n",
              " 'his parental': 163,\n",
              " 'parental home': 294,\n",
              " 'home visiting': 173,\n",
              " 'visiting number': 422,\n",
              " 'number of': 271,\n",
              " 'of religious': 285,\n",
              " 'religious centres': 321,\n",
              " 'centres but': 58,\n",
              " 'but few': 50,\n",
              " 'few details': 90,\n",
              " 'details of': 78,\n",
              " 'of his': 279,\n",
              " 'his travels': 169,\n",
              " 'travels have': 410,\n",
              " 'have emerged': 128,\n",
              " 'modi has asserted': 245,\n",
              " 'has asserted he': 121,\n",
              " 'asserted he had': 30,\n",
              " 'he had travelled': 140,\n",
              " 'had travelled in': 119,\n",
              " 'travelled in northern': 409,\n",
              " 'in northern india': 186,\n",
              " 'northern india for': 268,\n",
              " 'india for two': 192,\n",
              " 'for two years': 97,\n",
              " 'two years after': 413,\n",
              " 'years after leaving': 458,\n",
              " 'after leaving his': 5,\n",
              " 'leaving his parental': 221,\n",
              " 'his parental home': 164,\n",
              " 'parental home visiting': 295,\n",
              " 'home visiting number': 174,\n",
              " 'visiting number of': 423,\n",
              " 'number of religious': 272,\n",
              " 'of religious centres': 286,\n",
              " 'religious centres but': 322,\n",
              " 'centres but few': 59,\n",
              " 'but few details': 51,\n",
              " 'few details of': 91,\n",
              " 'details of his': 79,\n",
              " 'of his travels': 280,\n",
              " 'his travels have': 170,\n",
              " 'travels have emerged': 411,\n",
              " 'upon his': 416,\n",
              " 'his return': 165,\n",
              " 'return to': 325,\n",
              " 'to gujarat': 398,\n",
              " 'gujarat in': 112,\n",
              " 'in he': 177,\n",
              " 'he became': 133,\n",
              " 'became full': 36,\n",
              " 'full time': 105,\n",
              " 'time worker': 392,\n",
              " 'worker for': 455,\n",
              " 'for the': 94,\n",
              " 'upon his return': 417,\n",
              " 'his return to': 166,\n",
              " 'return to gujarat': 326,\n",
              " 'to gujarat in': 399,\n",
              " 'gujarat in he': 113,\n",
              " 'in he became': 178,\n",
              " 'he became full': 134,\n",
              " 'became full time': 37,\n",
              " 'full time worker': 106,\n",
              " 'time worker for': 393,\n",
              " 'worker for the': 456,\n",
              " 'for the rss': 95,\n",
              " 'after the': 6,\n",
              " 'the state': 386,\n",
              " 'state of': 353,\n",
              " 'of emergency': 273,\n",
              " 'emergency was': 84,\n",
              " 'was declared': 427,\n",
              " 'declared by': 76,\n",
              " 'by prime': 56,\n",
              " 'minister indira': 235,\n",
              " 'indira gandhi': 200,\n",
              " 'gandhi in': 107,\n",
              " 'in modi': 181,\n",
              " 'modi went': 252,\n",
              " 'went into': 435,\n",
              " 'into hiding': 202,\n",
              " 'after the state': 7,\n",
              " 'the state of': 387,\n",
              " 'state of emergency': 354,\n",
              " 'of emergency was': 274,\n",
              " 'emergency was declared': 85,\n",
              " 'was declared by': 428,\n",
              " 'declared by prime': 77,\n",
              " 'by prime minister': 57,\n",
              " 'prime minister indira': 308,\n",
              " 'minister indira gandhi': 236,\n",
              " 'indira gandhi in': 201,\n",
              " 'gandhi in modi': 108,\n",
              " 'in modi went': 182,\n",
              " 'modi went into': 253,\n",
              " 'went into hiding': 436,\n",
              " 'rss assigned': 331,\n",
              " 'assigned him': 31,\n",
              " 'him to': 157,\n",
              " 'the bjp': 367,\n",
              " 'bjp in': 44,\n",
              " 'in and': 175,\n",
              " 'and he': 15,\n",
              " 'he held': 143,\n",
              " 'held several': 150,\n",
              " 'several positions': 346,\n",
              " 'positions within': 304,\n",
              " 'within the': 451,\n",
              " 'the party': 377,\n",
              " 'party hierarchy': 300,\n",
              " 'hierarchy until': 155,\n",
              " 'until rising': 414,\n",
              " 'rising to': 329,\n",
              " 'the rank': 379,\n",
              " 'rank of': 316,\n",
              " 'of general': 275,\n",
              " 'general secretary': 109,\n",
              " 'the rss assigned': 384,\n",
              " 'rss assigned him': 332,\n",
              " 'assigned him to': 32,\n",
              " 'him to the': 158,\n",
              " 'to the bjp': 403,\n",
              " 'the bjp in': 368,\n",
              " 'bjp in and': 45,\n",
              " 'in and he': 176,\n",
              " 'and he held': 16,\n",
              " 'he held several': 144,\n",
              " 'held several positions': 151,\n",
              " 'several positions within': 347,\n",
              " 'positions within the': 305,\n",
              " 'within the party': 452,\n",
              " 'the party hierarchy': 378,\n",
              " 'party hierarchy until': 301,\n",
              " 'hierarchy until rising': 156,\n",
              " 'until rising to': 415,\n",
              " 'rising to the': 330,\n",
              " 'to the rank': 404,\n",
              " 'the rank of': 380,\n",
              " 'rank of general': 317,\n",
              " 'of general secretary': 276}"
            ]
          },
          "metadata": {},
          "execution_count": 25
        }
      ]
    },
    {
      "cell_type": "code",
      "source": [
        "X[0].toarray()"
      ],
      "metadata": {
        "id": "uJG10VUKd3dp",
        "outputId": "f8877ed2-d4f3-4490-b56b-688723c858bc",
        "colab": {
          "base_uri": "https://localhost:8080/"
        }
      },
      "execution_count": 26,
      "outputs": [
        {
          "output_type": "execute_result",
          "data": {
            "text/plain": [
              "array([[0, 0, 0, 0, 0, 0, 0, 0, 0, 0, 0, 1, 1, 1, 1, 0, 0, 0, 0, 0, 0, 0,\n",
              "        0, 0, 0, 0, 0, 1, 1, 0, 0, 0, 0, 0, 0, 0, 0, 0, 0, 0, 0, 0, 0, 0,\n",
              "        0, 0, 0, 0, 1, 1, 0, 0, 0, 0, 0, 0, 0, 0, 0, 0, 0, 0, 0, 0, 0, 0,\n",
              "        0, 0, 0, 0, 1, 1, 1, 1, 0, 0, 0, 0, 0, 0, 0, 0, 0, 0, 0, 0, 1, 1,\n",
              "        0, 0, 0, 0, 0, 0, 0, 0, 0, 0, 0, 0, 0, 0, 0, 0, 0, 0, 0, 0, 0, 0,\n",
              "        0, 0, 0, 0, 0, 0, 1, 1, 0, 0, 0, 0, 0, 0, 0, 0, 0, 0, 0, 0, 0, 0,\n",
              "        0, 0, 0, 0, 0, 0, 0, 0, 0, 0, 0, 0, 0, 0, 0, 0, 0, 0, 0, 0, 0, 0,\n",
              "        0, 0, 0, 0, 0, 0, 0, 0, 0, 0, 0, 0, 0, 0, 0, 0, 0, 0, 0, 0, 0, 0,\n",
              "        0, 0, 0, 0, 0, 0, 0, 0, 0, 0, 0, 0, 0, 0, 0, 0, 0, 1, 0, 0, 0, 0,\n",
              "        1, 1, 0, 0, 0, 0, 0, 1, 1, 0, 0, 0, 0, 0, 0, 0, 0, 0, 0, 0, 0, 0,\n",
              "        0, 0, 1, 1, 0, 0, 0, 0, 0, 0, 0, 0, 0, 0, 0, 0, 0, 1, 0, 1, 1, 1,\n",
              "        1, 1, 0, 0, 1, 1, 0, 0, 0, 0, 0, 0, 0, 0, 0, 0, 1, 1, 0, 0, 0, 0,\n",
              "        0, 0, 0, 0, 0, 0, 0, 0, 0, 0, 0, 0, 0, 0, 0, 0, 0, 1, 1, 0, 0, 0,\n",
              "        0, 0, 0, 0, 0, 0, 0, 0, 0, 0, 0, 0, 0, 0, 0, 0, 1, 1, 0, 0, 1, 0,\n",
              "        0, 1, 0, 0, 0, 0, 0, 0, 0, 0, 0, 0, 0, 0, 0, 0, 0, 0, 0, 0, 0, 0,\n",
              "        0, 0, 0, 0, 0, 0, 0, 0, 0, 0, 1, 1, 1, 1, 0, 0, 0, 0, 0, 0, 0, 0,\n",
              "        0, 0, 0, 0, 0, 0, 0, 0, 0, 1, 1, 0, 0, 0, 0, 0, 0, 0, 0, 0, 0, 0,\n",
              "        0, 0, 0, 0, 0, 0, 0, 0, 0, 0, 0, 0, 0, 0, 1, 1, 0, 0, 0, 0, 0, 0,\n",
              "        0, 0, 0, 0, 0, 0, 0, 0, 0, 0, 0, 0, 0, 0, 0, 0, 0, 0, 0, 0, 0, 0,\n",
              "        0, 0, 0, 0, 0, 0, 0, 0, 0, 0, 0, 0, 0, 0, 0, 0, 0, 0, 0, 0, 0, 0,\n",
              "        0, 0, 0, 0, 0, 0, 0, 0, 0, 0, 0, 0, 0, 0, 0, 0, 0, 0, 0]])"
            ]
          },
          "metadata": {},
          "execution_count": 26
        }
      ]
    },
    {
      "cell_type": "markdown",
      "source": [
        "# TF-IDF"
      ],
      "metadata": {
        "id": "-OvX2J1Rd7am"
      }
    },
    {
      "cell_type": "code",
      "source": [
        "from sklearn.feature_extraction.text import TfidfVectorizer\n",
        "cv=TfidfVectorizer()\n",
        "X=cv.fit_transform(corpus)"
      ],
      "metadata": {
        "id": "iVNnlvK4d6oY"
      },
      "execution_count": 27,
      "outputs": []
    },
    {
      "cell_type": "code",
      "source": [
        "corpus[0]"
      ],
      "metadata": {
        "id": "immJ0X9-eZ4T",
        "outputId": "80394a0c-3dae-4d9e-b5df-46855bec1fa9",
        "colab": {
          "base_uri": "https://localhost:8080/",
          "height": 53
        }
      },
      "execution_count": 28,
      "outputs": [
        {
          "output_type": "execute_result",
          "data": {
            "text/plain": [
              "' narendra damodardas modi  gujarati    n  end   d mod   d s  modi    listen   born    september       b  is an indian politician serving as the   th and current prime minister of india since      '"
            ],
            "application/vnd.google.colaboratory.intrinsic+json": {
              "type": "string"
            }
          },
          "metadata": {},
          "execution_count": 28
        }
      ]
    },
    {
      "cell_type": "code",
      "source": [
        "X[0].toarray()"
      ],
      "metadata": {
        "id": "sCPC2iYUeco2",
        "outputId": "a321116b-12a8-4f38-f79d-ad126e54b93c",
        "colab": {
          "base_uri": "https://localhost:8080/"
        }
      },
      "execution_count": 32,
      "outputs": [
        {
          "output_type": "execute_result",
          "data": {
            "text/plain": [
              "array([[0.        , 0.        , 0.        , 0.        , 0.22984527,\n",
              "        0.14412954, 0.17576466, 0.        , 0.        , 0.        ,\n",
              "        0.        , 0.        , 0.        , 0.        , 0.19821014,\n",
              "        0.        , 0.        , 0.        , 0.        , 0.        ,\n",
              "        0.        , 0.        , 0.        , 0.        , 0.        ,\n",
              "        0.22984527, 0.22984527, 0.        , 0.        , 0.        ,\n",
              "        0.        , 0.        , 0.        , 0.        , 0.        ,\n",
              "        0.        , 0.22984527, 0.        , 0.        , 0.        ,\n",
              "        0.        , 0.        , 0.        , 0.        , 0.        ,\n",
              "        0.        , 0.        , 0.22984527, 0.        , 0.        ,\n",
              "        0.        , 0.        , 0.        , 0.        , 0.        ,\n",
              "        0.        , 0.        , 0.        , 0.        , 0.        ,\n",
              "        0.        , 0.        , 0.19821014, 0.17576466, 0.        ,\n",
              "        0.        , 0.        , 0.1583546 , 0.        , 0.        ,\n",
              "        0.        , 0.        , 0.        , 0.22984527, 0.        ,\n",
              "        0.        , 0.        , 0.        , 0.1583546 , 0.22984527,\n",
              "        0.26420484, 0.        , 0.22984527, 0.        , 0.        ,\n",
              "        0.        , 0.        , 0.        , 0.        , 0.        ,\n",
              "        0.13210242, 0.        , 0.        , 0.        , 0.        ,\n",
              "        0.        , 0.        , 0.22984527, 0.        , 0.17576466,\n",
              "        0.        , 0.        , 0.        , 0.        , 0.        ,\n",
              "        0.        , 0.        , 0.        , 0.        , 0.        ,\n",
              "        0.        , 0.        , 0.        , 0.        , 0.        ,\n",
              "        0.22984527, 0.19821014, 0.        , 0.19821014, 0.        ,\n",
              "        0.        , 0.        , 0.        , 0.        , 0.        ,\n",
              "        0.        , 0.22984527, 0.        , 0.10427399, 0.        ,\n",
              "        0.        , 0.        , 0.        , 0.        , 0.        ,\n",
              "        0.        , 0.        , 0.        , 0.        , 0.        ,\n",
              "        0.        , 0.        , 0.        , 0.        , 0.        ,\n",
              "        0.        , 0.        , 0.        , 0.        , 0.        ,\n",
              "        0.        , 0.        , 0.        ]])"
            ]
          },
          "metadata": {},
          "execution_count": 32
        }
      ]
    },
    {
      "cell_type": "code",
      "source": [
        "# TF-IDF ngram\n",
        "\n",
        "cv=TfidfVectorizer(ngram_range=(2,3))\n",
        "X=cv.fit_transform(corpus)"
      ],
      "metadata": {
        "id": "CeomNpwneeix"
      },
      "execution_count": 48,
      "outputs": []
    },
    {
      "cell_type": "code",
      "source": [
        "corpus[0]"
      ],
      "metadata": {
        "id": "9df-mUOPfQdA",
        "outputId": "bbceb2dc-f5fe-43f0-b506-1d5e7fc614fd",
        "colab": {
          "base_uri": "https://localhost:8080/",
          "height": 53
        }
      },
      "execution_count": 49,
      "outputs": [
        {
          "output_type": "execute_result",
          "data": {
            "text/plain": [
              "' narendra damodardas modi  gujarati    n  end   d mod   d s  modi    listen   born    september       b  is an indian politician serving as the   th and current prime minister of india since      '"
            ],
            "application/vnd.google.colaboratory.intrinsic+json": {
              "type": "string"
            }
          },
          "metadata": {},
          "execution_count": 49
        }
      ]
    },
    {
      "cell_type": "code",
      "source": [
        "X[0].toarray()"
      ],
      "metadata": {
        "id": "9Amy2bjXfSEe",
        "outputId": "a5346881-140d-4667-f3f3-9925efb59f37",
        "colab": {
          "base_uri": "https://localhost:8080/"
        }
      },
      "execution_count": 50,
      "outputs": [
        {
          "output_type": "execute_result",
          "data": {
            "text/plain": [
              "array([[0.        , 0.        , 0.        , 0.        , 0.        ,\n",
              "        0.        , 0.        , 0.        , 0.        , 0.        ,\n",
              "        0.        , 0.14691837, 0.14691837, 0.14691837, 0.14691837,\n",
              "        0.        , 0.        , 0.        , 0.        , 0.        ,\n",
              "        0.        , 0.        , 0.        , 0.        , 0.        ,\n",
              "        0.        , 0.        , 0.14691837, 0.14691837, 0.        ,\n",
              "        0.        , 0.        , 0.        , 0.        , 0.        ,\n",
              "        0.        , 0.        , 0.        , 0.        , 0.        ,\n",
              "        0.        , 0.        , 0.        , 0.        , 0.        ,\n",
              "        0.        , 0.        , 0.        , 0.14691837, 0.14691837,\n",
              "        0.        , 0.        , 0.        , 0.        , 0.        ,\n",
              "        0.        , 0.        , 0.        , 0.        , 0.        ,\n",
              "        0.        , 0.        , 0.        , 0.        , 0.        ,\n",
              "        0.        , 0.        , 0.        , 0.        , 0.        ,\n",
              "        0.14691837, 0.14691837, 0.14691837, 0.14691837, 0.        ,\n",
              "        0.        , 0.        , 0.        , 0.        , 0.        ,\n",
              "        0.        , 0.        , 0.        , 0.        , 0.        ,\n",
              "        0.        , 0.14691837, 0.14691837, 0.        , 0.        ,\n",
              "        0.        , 0.        , 0.        , 0.        , 0.        ,\n",
              "        0.        , 0.        , 0.        , 0.        , 0.        ,\n",
              "        0.        , 0.        , 0.        , 0.        , 0.        ,\n",
              "        0.        , 0.        , 0.        , 0.        , 0.        ,\n",
              "        0.        , 0.        , 0.        , 0.        , 0.        ,\n",
              "        0.        , 0.14691837, 0.14691837, 0.        , 0.        ,\n",
              "        0.        , 0.        , 0.        , 0.        , 0.        ,\n",
              "        0.        , 0.        , 0.        , 0.        , 0.        ,\n",
              "        0.        , 0.        , 0.        , 0.        , 0.        ,\n",
              "        0.        , 0.        , 0.        , 0.        , 0.        ,\n",
              "        0.        , 0.        , 0.        , 0.        , 0.        ,\n",
              "        0.        , 0.        , 0.        , 0.        , 0.        ,\n",
              "        0.        , 0.        , 0.        , 0.        , 0.        ,\n",
              "        0.        , 0.        , 0.        , 0.        , 0.        ,\n",
              "        0.        , 0.        , 0.        , 0.        , 0.        ,\n",
              "        0.        , 0.        , 0.        , 0.        , 0.        ,\n",
              "        0.        , 0.        , 0.        , 0.        , 0.        ,\n",
              "        0.        , 0.        , 0.        , 0.        , 0.        ,\n",
              "        0.        , 0.        , 0.        , 0.        , 0.        ,\n",
              "        0.        , 0.        , 0.        , 0.        , 0.        ,\n",
              "        0.        , 0.        , 0.        , 0.14691837, 0.        ,\n",
              "        0.        , 0.        , 0.        , 0.14691837, 0.14691837,\n",
              "        0.        , 0.        , 0.        , 0.        , 0.        ,\n",
              "        0.14691837, 0.14691837, 0.        , 0.        , 0.        ,\n",
              "        0.        , 0.        , 0.        , 0.        , 0.        ,\n",
              "        0.        , 0.        , 0.        , 0.        , 0.        ,\n",
              "        0.        , 0.        , 0.14691837, 0.14691837, 0.        ,\n",
              "        0.        , 0.        , 0.        , 0.        , 0.        ,\n",
              "        0.        , 0.        , 0.        , 0.        , 0.        ,\n",
              "        0.        , 0.        , 0.12669703, 0.        , 0.14691837,\n",
              "        0.14691837, 0.14691837, 0.14691837, 0.14691837, 0.        ,\n",
              "        0.        , 0.14691837, 0.14691837, 0.        , 0.        ,\n",
              "        0.        , 0.        , 0.        , 0.        , 0.        ,\n",
              "        0.        , 0.        , 0.        , 0.14691837, 0.14691837,\n",
              "        0.        , 0.        , 0.        , 0.        , 0.        ,\n",
              "        0.        , 0.        , 0.        , 0.        , 0.        ,\n",
              "        0.        , 0.        , 0.        , 0.        , 0.        ,\n",
              "        0.        , 0.        , 0.        , 0.        , 0.        ,\n",
              "        0.        , 0.14691837, 0.14691837, 0.        , 0.        ,\n",
              "        0.        , 0.        , 0.        , 0.        , 0.        ,\n",
              "        0.        , 0.        , 0.        , 0.        , 0.        ,\n",
              "        0.        , 0.        , 0.        , 0.        , 0.        ,\n",
              "        0.        , 0.        , 0.14691837, 0.14691837, 0.        ,\n",
              "        0.        , 0.11234975, 0.        , 0.        , 0.14691837,\n",
              "        0.        , 0.        , 0.        , 0.        , 0.        ,\n",
              "        0.        , 0.        , 0.        , 0.        , 0.        ,\n",
              "        0.        , 0.        , 0.        , 0.        , 0.        ,\n",
              "        0.        , 0.        , 0.        , 0.        , 0.        ,\n",
              "        0.        , 0.        , 0.        , 0.        , 0.        ,\n",
              "        0.        , 0.        , 0.        , 0.        , 0.        ,\n",
              "        0.14691837, 0.14691837, 0.14691837, 0.14691837, 0.        ,\n",
              "        0.        , 0.        , 0.        , 0.        , 0.        ,\n",
              "        0.        , 0.        , 0.        , 0.        , 0.        ,\n",
              "        0.        , 0.        , 0.        , 0.        , 0.        ,\n",
              "        0.        , 0.14691837, 0.14691837, 0.        , 0.        ,\n",
              "        0.        , 0.        , 0.        , 0.        , 0.        ,\n",
              "        0.        , 0.        , 0.        , 0.        , 0.        ,\n",
              "        0.        , 0.        , 0.        , 0.        , 0.        ,\n",
              "        0.        , 0.        , 0.        , 0.        , 0.        ,\n",
              "        0.        , 0.        , 0.        , 0.14691837, 0.14691837,\n",
              "        0.        , 0.        , 0.        , 0.        , 0.        ,\n",
              "        0.        , 0.        , 0.        , 0.        , 0.        ,\n",
              "        0.        , 0.        , 0.        , 0.        , 0.        ,\n",
              "        0.        , 0.        , 0.        , 0.        , 0.        ,\n",
              "        0.        , 0.        , 0.        , 0.        , 0.        ,\n",
              "        0.        , 0.        , 0.        , 0.        , 0.        ,\n",
              "        0.        , 0.        , 0.        , 0.        , 0.        ,\n",
              "        0.        , 0.        , 0.        , 0.        , 0.        ,\n",
              "        0.        , 0.        , 0.        , 0.        , 0.        ,\n",
              "        0.        , 0.        , 0.        , 0.        , 0.        ,\n",
              "        0.        , 0.        , 0.        , 0.        , 0.        ,\n",
              "        0.        , 0.        , 0.        , 0.        , 0.        ,\n",
              "        0.        , 0.        , 0.        , 0.        , 0.        ,\n",
              "        0.        , 0.        , 0.        , 0.        ]])"
            ]
          },
          "metadata": {},
          "execution_count": 50
        }
      ]
    },
    {
      "cell_type": "code",
      "source": [],
      "metadata": {
        "id": "bcXPjJO5heDo"
      },
      "execution_count": 55,
      "outputs": []
    },
    {
      "cell_type": "code",
      "source": [
        "# TF-IDF Max features\n",
        "\n",
        "cv=TfidfVectorizer(max_features=3)\n",
        "X=cv.fit_transform(corpus)"
      ],
      "metadata": {
        "id": "zQY8e7urfX4I"
      },
      "execution_count": 37,
      "outputs": []
    },
    {
      "cell_type": "code",
      "source": [
        "corpus[0]"
      ],
      "metadata": {
        "id": "QaZsXWrHflaT",
        "outputId": "e83ae008-804d-403f-bdeb-ec07417ce51f",
        "colab": {
          "base_uri": "https://localhost:8080/",
          "height": 53
        }
      },
      "execution_count": 38,
      "outputs": [
        {
          "output_type": "execute_result",
          "data": {
            "text/plain": [
              "' narendra damodardas modi  gujarati    n  end   d mod   d s  modi    listen   born    september       b  is an indian politician serving as the   th and current prime minister of india since      '"
            ],
            "application/vnd.google.colaboratory.intrinsic+json": {
              "type": "string"
            }
          },
          "metadata": {},
          "execution_count": 38
        }
      ]
    },
    {
      "cell_type": "code",
      "source": [
        "X[0].toarray()"
      ],
      "metadata": {
        "id": "72KaK8iAfmr6",
        "outputId": "98ebe6e5-ad35-4602-a1d6-4253161839c1",
        "colab": {
          "base_uri": "https://localhost:8080/"
        }
      },
      "execution_count": 39,
      "outputs": [
        {
          "output_type": "execute_result",
          "data": {
            "text/plain": [
              "array([[0.        , 0.78493302, 0.61958063]])"
            ]
          },
          "metadata": {},
          "execution_count": 39
        }
      ]
    },
    {
      "cell_type": "code",
      "source": [],
      "metadata": {
        "id": "l_2zcxEdfpBX"
      },
      "execution_count": 41,
      "outputs": []
    },
    {
      "cell_type": "code",
      "source": [],
      "metadata": {
        "id": "bWdkpZqsg_Hg"
      },
      "execution_count": null,
      "outputs": []
    }
  ]
}